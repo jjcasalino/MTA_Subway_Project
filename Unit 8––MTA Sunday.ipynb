{
 "cells": [
  {
   "cell_type": "code",
   "execution_count": 5,
   "metadata": {
    "scrolled": true
   },
   "outputs": [
    {
     "name": "stdout",
     "output_type": "stream",
     "text": [
      "Locations and Times on Sunday: \n",
      "1 (('N083', 'R138', '01-00-00', 'W 4 ST-WASH SQ', '17:00:00'), 1617)\n",
      "2 (('A034', 'R170', '03-00-00', '14 ST-UNION SQ', '17:00:00'), 1504)\n",
      "3 (('N506', 'R022', '00-00-00', '34 ST-HERALD SQ', '16:00:00'), 1430)\n",
      "4 (('N067', 'R012', '00-05-00', '34 ST-PENN STA', '20:00:00'), 1347)\n",
      "5 (('N063A', 'R011', '00-00-00', '42 ST-PORT AUTH', '20:00:00'), 1307)\n",
      "6 (('N083', 'R138', '01-00-01', 'W 4 ST-WASH SQ', '17:00:00'), 1285)\n",
      "7 (('R240', 'R047', '00-00-00', 'GRD CNTRL-42 ST', '17:00:00'), 1261)\n",
      "8 (('N083', 'R138', '01-00-00', 'W 4 ST-WASH SQ', '21:00:00'), 1257)\n",
      "9 (('R249', 'R179', '01-00-09', '86 ST', '16:00:00'), 1255)\n",
      "10 (('N067', 'R012', '00-05-00', '34 ST-PENN STA', '16:00:00'), 1246)\n",
      "11 (('R151', 'R033', '00-00-04', 'TIMES SQ-42 ST', '16:00:00'), 1187)\n",
      "12 (('H009', 'R235', '00-03-00', 'BEDFORD AV', '20:00:00'), 1172)\n",
      "13 (('H009', 'R235', '00-03-00', 'BEDFORD AV', '16:00:00'), 1153)\n",
      "14 (('N080', 'R138', '00-00-00', 'W 4 ST-WASH SQ', '17:00:00'), 1138)\n",
      "15 (('R249', 'R179', '01-00-00', '86 ST', '16:00:00'), 1122)\n",
      "16 (('H009', 'R235', '00-06-02', 'BEDFORD AV', '20:00:00'), 1110)\n",
      "17 (('H009', 'R235', '00-06-02', 'BEDFORD AV', '16:00:00'), 1103)\n",
      "18 (('N063A', 'R011', '00-00-00', '42 ST-PORT AUTH', '16:00:00'), 1084)\n",
      "19 (('N083', 'R138', '01-00-00', 'W 4 ST-WASH SQ', '13:00:00'), 1062)\n",
      "20 (('R151', 'R033', '00-00-05', 'TIMES SQ-42 ST', '16:00:00'), 1059)\n",
      "21 (('A034', 'R170', '03-03-00', '14 ST-UNION SQ', '17:00:00'), 1058)\n",
      "22 (('N506', 'R022', '00-00-00', '34 ST-HERALD SQ', '20:00:00'), 1054)\n",
      "23 (('A034', 'R170', '03-00-00', '14 ST-UNION SQ', '21:00:00'), 1053)\n",
      "24 (('N601', 'R319', '00-00-00', 'LEXINGTON AV/63', '16:00:00'), 1052)\n",
      "25 (('R169', 'R168', '01-03-00', '96 ST', '21:00:00'), 1036)\n",
      "26 (('N324', 'R018', '00-03-00', 'JKSN HT-ROOSVLT', '20:00:00'), 1021)\n",
      "27 (('N083', 'R138', '01-00-01', 'W 4 ST-WASH SQ', '21:00:00'), 1017)\n",
      "28 (('R151', 'R033', '00-00-03', 'TIMES SQ-42 ST', '16:00:00'), 1014)\n",
      "29 (('R161A', 'R452', '01-00-00', '72 ST', '17:00:00'), 1008)\n",
      "30 (('N506', 'R022', '00-05-05', '34 ST-HERALD SQ', '16:00:00'), 1000)\n"
     ]
    }
   ],
   "source": [
    "import pandas as pd\n",
    "\n",
    "df = pd.read_csv('mta_6_17_17.csv')\n",
    "df.columns = df.columns.str.strip()\n",
    "df = df[(df.TIME == '05:00:00') | (df.TIME == '06:00:00') | (df.TIME == '07:00:00')|(df.TIME == '08:00:00') | (df.TIME == '09:00:00') | (df.TIME == '10:00:00')| (df.TIME == '11:00:00') | (df.TIME == '12:00:00')| (df.TIME == '13:00:00') | (df.TIME == '14:00:00') | (df.TIME == '15:00:00')|(df.TIME == '16:00:00') | (df.TIME == '17:00:00') | (df.TIME == '18:00:00')| (df.TIME == '19:00:00') | (df.TIME == '20:00:00') | (df.TIME == '21:00:00') | (df.TIME == '22:00:00') | (df.TIME == '23:00:00')|(df.TIME == '00:00:00') | (df.TIME == '01:00:00') | (df.TIME == '02:00:00')| (df.TIME == '03:00:00') | (df.TIME == '04:00:00') ]\n",
    "\n",
    "#create a dateframe for sunday\n",
    "sunday = df[df.DATE == '06/11/2017']\n",
    "sunday = sunday.reset_index(drop=True)\n",
    "\n",
    "#find the number of people at the exits for each station, SCP, unit, and C/A for each time period\n",
    "exits = {}\n",
    "for i in range(len(sunday.index)):\n",
    "    mytuple = (sunday['C/A'][i], sunday.UNIT[i],sunday.SCP[i],sunday.STATION[i])\n",
    "    if mytuple not in exits.keys():\n",
    "        exits[mytuple]=[(sunday.TIME[i],sunday.EXITS[i])]\n",
    "    else:\n",
    "        exits[mytuple].append((sunday.TIME[i],sunday.EXITS[i]))\n",
    "\n",
    "exits_diff = {}\n",
    "for a,b in exits.items():\n",
    "    for i in range(len(b)-1):\n",
    "        diff = b[i+1][1]-b[i][1]\n",
    "        if a not in exits_diff.keys():\n",
    "            exits_diff[a]=[(b[i+1][0],diff)]\n",
    "        else:\n",
    "            exits_diff[a].append((b[i+1][0],diff))\n",
    "\n",
    "#sunday_dict\n",
    "sunday_dict = {}\n",
    "for i in range( len(sunday.index) ):\n",
    "    mytuple = (sunday[\"C/A\"][i], sunday.UNIT[i], sunday.SCP[i], sunday.STATION[i])\n",
    "    if mytuple not in sunday_dict.keys():\n",
    "        sunday_dict[mytuple] = [(sunday.TIME[i], sunday.EXITS[i])]\n",
    "    else:\n",
    "        sunday_dict[mytuple].append((sunday.TIME[i], sunday.EXITS[i]))\n",
    "\n",
    "#find the number of people at the entries for each station, SCP, unit, and C/A for each time period\n",
    "entries = {}\n",
    "for i in range(len(sunday.index)):\n",
    "    mytuple = (sunday['C/A'][i], sunday.UNIT[i],sunday.SCP[i],sunday.STATION[i])\n",
    "    if mytuple not in sunday_dict.keys():\n",
    "        entries[mytuple]=[(sunday.TIME[i],sunday.ENTRIES[i])]\n",
    "    else:\n",
    "        sunday_dict[mytuple].append((sunday.TIME[i],sunday.ENTRIES[i]))\n",
    "\n",
    "entries_diff = {}\n",
    "for a,b in entries.items():\n",
    "    for i in range(len(b)-1):\n",
    "        diff = b[i+1][1]-b[i][1]\n",
    "        if a not in entries_diff.keys():\n",
    "            entries_diff[a]=[(b[i+1][0],diff)]\n",
    "        else:\n",
    "            entries_diff[a].append((b[i+1][0],diff))\n",
    "\n",
    "#combine the exits and entries numbers\n",
    "n_mon = {}\n",
    "for a,b in exits_diff.items():\n",
    "    for i in range(len(b)):\n",
    "        n_mon[(a[0],a[1],a[2],a[3],b[i][0])]=b[i][1]\n",
    "        \n",
    "for a,b in entries_diff.items():\n",
    "    for i in range(len(b)):\n",
    "        n_mon[(a[0],a[1],a[2],a[3],b[i][0])]+=b[i][1]\n",
    "\n",
    "#sort the numbers in a list and find out the times and locations where we get the most number of people\n",
    "n = []\n",
    "for a,b in n_mon.items():\n",
    "    n.append((a,b))\n",
    "n = sorted(n, key=lambda x:(-x[1],x[0]))\n",
    "\n",
    "print('Locations and Times on Sunday: ')\n",
    "for i in range(1,31):\n",
    "    print(i, n[i])\n",
    "\n",
    "#for item in n:\n",
    "#    if \"72nd\" or \"77th\" or \"86\" in item:\n",
    "#        print(item)\n",
    "#print(n)\n"
   ]
  },
  {
   "cell_type": "code",
   "execution_count": 16,
   "metadata": {},
   "outputs": [
    {
     "data": {
      "text/plain": [
       "<Container object of 30 artists>"
      ]
     },
     "execution_count": 16,
     "metadata": {},
     "output_type": "execute_result"
    },
    {
     "data": {
      "image/png": "[encoded data removed]",
      "text/plain": [
       "<matplotlib.figure.Figure at 0x114867208>"
      ]
     },
     "metadata": {},
     "output_type": "display_data"
    }
   ],
   "source": [
    "from datetime import datetime\n",
    "import matplotlib.pyplot as plt\n",
    "% matplotlib inline\n",
    "\n",
    "x = []\n",
    "y = []\n",
    "\n",
    "for i in range(1, 31):\n",
    "    x.append(i)\n",
    "    y.append(n[i][1])\n",
    "plt.bar(x, y)"
   ]
  },
  {
   "cell_type": "code",
   "execution_count": null,
   "metadata": {
    "collapsed": true
   },
   "outputs": [],
   "source": []
  }
 ],
 "metadata": {
  "kernelspec": {
   "display_name": "Python 3",
   "language": "python",
   "name": "python3"
  },
  "language_info": {
   "codemirror_mode": {
    "name": "ipython",
    "version": 3
   },
   "file_extension": ".py",
   "mimetype": "text/x-python",
   "name": "python",
   "nbconvert_exporter": "python",
   "pygments_lexer": "ipython3",
   "version": "3.6.1"
  }
 },
 "nbformat": 4,
 "nbformat_minor": 2
}
